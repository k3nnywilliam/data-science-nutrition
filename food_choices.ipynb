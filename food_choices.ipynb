{
 "cells": [
  {
   "cell_type": "markdown",
   "metadata": {},
   "source": [
    "<div>\n",
    "<img src=\"img/food.jpg\" width=800 height=200 />\n",
    "</div>"
   ]
  },
  {
   "cell_type": "markdown",
   "metadata": {},
   "source": [
    "## Introduction\n",
    "\n",
    "#### Note from the Kaggle dataset creator:\n",
    "\n",
    "\"This dataset includes information on food choices, nutrition, preferences, childhood favorites, and other information from college students. There are 126 responses from students. Data is raw and uncleaned. Cleaning is in the process and as soon as that is done, additional versions of the data will be posted.\n",
    "\n",
    "Acknowledgements\n",
    "Thank you to all the students of Mercyhurst University who agreed to participate in this survey.\n",
    "\n",
    "Inspiration\n",
    "How important is nutrition information for today's college kids? Is their taste in food defined by their food preferences when they were children? Are kids of parents who cook more likely to make better food choices than others? Are these kids likely to have a different taste compared to others? There a number of open ended questions included in this dataset such as: What is your favorite comfort food? What is your favorite cuisine? that could work well for natural language processing\""
   ]
  },
  {
   "cell_type": "code",
   "execution_count": 254,
   "metadata": {},
   "outputs": [],
   "source": [
    "import pandas as pd\n",
    "from matplotlib import pyplot as plt\n",
    "import seaborn as sns\n",
    "%matplotlib inline"
   ]
  },
  {
   "cell_type": "code",
   "execution_count": 255,
   "metadata": {},
   "outputs": [],
   "source": [
    "df = pd.read_csv(\"data/food_choices_data/food_coded.csv\")"
   ]
  },
  {
   "cell_type": "code",
   "execution_count": 256,
   "metadata": {
    "scrolled": true
   },
   "outputs": [
    {
     "data": {
      "text/html": [
       "<div>\n",
       "<style scoped>\n",
       "    .dataframe tbody tr th:only-of-type {\n",
       "        vertical-align: middle;\n",
       "    }\n",
       "\n",
       "    .dataframe tbody tr th {\n",
       "        vertical-align: top;\n",
       "    }\n",
       "\n",
       "    .dataframe thead th {\n",
       "        text-align: right;\n",
       "    }\n",
       "</style>\n",
       "<table border=\"1\" class=\"dataframe\">\n",
       "  <thead>\n",
       "    <tr style=\"text-align: right;\">\n",
       "      <th></th>\n",
       "      <th>GPA</th>\n",
       "      <th>Gender</th>\n",
       "      <th>breakfast</th>\n",
       "      <th>calories_chicken</th>\n",
       "      <th>calories_day</th>\n",
       "      <th>calories_scone</th>\n",
       "      <th>coffee</th>\n",
       "      <th>comfort_food</th>\n",
       "      <th>comfort_food_reasons</th>\n",
       "      <th>comfort_food_reasons_coded</th>\n",
       "      <th>...</th>\n",
       "      <th>soup</th>\n",
       "      <th>sports</th>\n",
       "      <th>thai_food</th>\n",
       "      <th>tortilla_calories</th>\n",
       "      <th>turkey_calories</th>\n",
       "      <th>type_sports</th>\n",
       "      <th>veggies_day</th>\n",
       "      <th>vitamins</th>\n",
       "      <th>waffle_calories</th>\n",
       "      <th>weight</th>\n",
       "    </tr>\n",
       "  </thead>\n",
       "  <tbody>\n",
       "    <tr>\n",
       "      <td>0</td>\n",
       "      <td>2.4</td>\n",
       "      <td>2</td>\n",
       "      <td>1</td>\n",
       "      <td>430</td>\n",
       "      <td>NaN</td>\n",
       "      <td>315.0</td>\n",
       "      <td>1</td>\n",
       "      <td>none</td>\n",
       "      <td>we dont have comfort</td>\n",
       "      <td>9.0</td>\n",
       "      <td>...</td>\n",
       "      <td>1.0</td>\n",
       "      <td>1.0</td>\n",
       "      <td>1</td>\n",
       "      <td>1165.0</td>\n",
       "      <td>345</td>\n",
       "      <td>car racing</td>\n",
       "      <td>5</td>\n",
       "      <td>1</td>\n",
       "      <td>1315</td>\n",
       "      <td>187</td>\n",
       "    </tr>\n",
       "    <tr>\n",
       "      <td>1</td>\n",
       "      <td>3.654</td>\n",
       "      <td>1</td>\n",
       "      <td>1</td>\n",
       "      <td>610</td>\n",
       "      <td>3.0</td>\n",
       "      <td>420.0</td>\n",
       "      <td>2</td>\n",
       "      <td>chocolate, chips, ice cream</td>\n",
       "      <td>Stress, bored, anger</td>\n",
       "      <td>1.0</td>\n",
       "      <td>...</td>\n",
       "      <td>1.0</td>\n",
       "      <td>1.0</td>\n",
       "      <td>2</td>\n",
       "      <td>725.0</td>\n",
       "      <td>690</td>\n",
       "      <td>Basketball</td>\n",
       "      <td>4</td>\n",
       "      <td>2</td>\n",
       "      <td>900</td>\n",
       "      <td>155</td>\n",
       "    </tr>\n",
       "    <tr>\n",
       "      <td>2</td>\n",
       "      <td>3.3</td>\n",
       "      <td>1</td>\n",
       "      <td>1</td>\n",
       "      <td>720</td>\n",
       "      <td>4.0</td>\n",
       "      <td>420.0</td>\n",
       "      <td>2</td>\n",
       "      <td>frozen yogurt, pizza, fast food</td>\n",
       "      <td>stress, sadness</td>\n",
       "      <td>1.0</td>\n",
       "      <td>...</td>\n",
       "      <td>1.0</td>\n",
       "      <td>2.0</td>\n",
       "      <td>5</td>\n",
       "      <td>1165.0</td>\n",
       "      <td>500</td>\n",
       "      <td>none</td>\n",
       "      <td>5</td>\n",
       "      <td>1</td>\n",
       "      <td>900</td>\n",
       "      <td>I'm not answering this.</td>\n",
       "    </tr>\n",
       "    <tr>\n",
       "      <td>3</td>\n",
       "      <td>3.2</td>\n",
       "      <td>1</td>\n",
       "      <td>1</td>\n",
       "      <td>430</td>\n",
       "      <td>3.0</td>\n",
       "      <td>420.0</td>\n",
       "      <td>2</td>\n",
       "      <td>Pizza, Mac and cheese, ice cream</td>\n",
       "      <td>Boredom</td>\n",
       "      <td>2.0</td>\n",
       "      <td>...</td>\n",
       "      <td>1.0</td>\n",
       "      <td>2.0</td>\n",
       "      <td>5</td>\n",
       "      <td>725.0</td>\n",
       "      <td>690</td>\n",
       "      <td>NaN</td>\n",
       "      <td>3</td>\n",
       "      <td>1</td>\n",
       "      <td>1315</td>\n",
       "      <td>Not sure, 240</td>\n",
       "    </tr>\n",
       "    <tr>\n",
       "      <td>4</td>\n",
       "      <td>3.5</td>\n",
       "      <td>1</td>\n",
       "      <td>1</td>\n",
       "      <td>720</td>\n",
       "      <td>2.0</td>\n",
       "      <td>420.0</td>\n",
       "      <td>2</td>\n",
       "      <td>Ice cream, chocolate, chips</td>\n",
       "      <td>Stress, boredom, cravings</td>\n",
       "      <td>1.0</td>\n",
       "      <td>...</td>\n",
       "      <td>1.0</td>\n",
       "      <td>1.0</td>\n",
       "      <td>4</td>\n",
       "      <td>940.0</td>\n",
       "      <td>500</td>\n",
       "      <td>Softball</td>\n",
       "      <td>4</td>\n",
       "      <td>2</td>\n",
       "      <td>760</td>\n",
       "      <td>190</td>\n",
       "    </tr>\n",
       "  </tbody>\n",
       "</table>\n",
       "<p>5 rows × 61 columns</p>\n",
       "</div>"
      ],
      "text/plain": [
       "     GPA  Gender  breakfast  calories_chicken  calories_day  calories_scone  \\\n",
       "0    2.4       2          1               430           NaN           315.0   \n",
       "1  3.654       1          1               610           3.0           420.0   \n",
       "2    3.3       1          1               720           4.0           420.0   \n",
       "3    3.2       1          1               430           3.0           420.0   \n",
       "4    3.5       1          1               720           2.0           420.0   \n",
       "\n",
       "   coffee                      comfort_food        comfort_food_reasons  \\\n",
       "0       1                              none       we dont have comfort    \n",
       "1       2       chocolate, chips, ice cream        Stress, bored, anger   \n",
       "2       2   frozen yogurt, pizza, fast food             stress, sadness   \n",
       "3       2  Pizza, Mac and cheese, ice cream                     Boredom   \n",
       "4       2      Ice cream, chocolate, chips   Stress, boredom, cravings    \n",
       "\n",
       "   comfort_food_reasons_coded  ...  soup  sports  thai_food tortilla_calories  \\\n",
       "0                         9.0  ...   1.0     1.0          1            1165.0   \n",
       "1                         1.0  ...   1.0     1.0          2             725.0   \n",
       "2                         1.0  ...   1.0     2.0          5            1165.0   \n",
       "3                         2.0  ...   1.0     2.0          5             725.0   \n",
       "4                         1.0  ...   1.0     1.0          4             940.0   \n",
       "\n",
       "   turkey_calories  type_sports veggies_day  vitamins  waffle_calories  \\\n",
       "0              345   car racing           5         1             1315   \n",
       "1              690  Basketball            4         2              900   \n",
       "2              500         none           5         1              900   \n",
       "3              690          NaN           3         1             1315   \n",
       "4              500     Softball           4         2              760   \n",
       "\n",
       "                     weight  \n",
       "0                       187  \n",
       "1                       155  \n",
       "2  I'm not answering this.   \n",
       "3             Not sure, 240  \n",
       "4                       190  \n",
       "\n",
       "[5 rows x 61 columns]"
      ]
     },
     "execution_count": 256,
     "metadata": {},
     "output_type": "execute_result"
    }
   ],
   "source": [
    "df.head()"
   ]
  },
  {
   "cell_type": "markdown",
   "metadata": {},
   "source": [
    "Now lets check the shape of our dataset:"
   ]
  },
  {
   "cell_type": "code",
   "execution_count": 257,
   "metadata": {
    "scrolled": true
   },
   "outputs": [
    {
     "data": {
      "text/plain": [
       "(125, 61)"
      ]
     },
     "execution_count": 257,
     "metadata": {},
     "output_type": "execute_result"
    }
   ],
   "source": [
    "df.shape"
   ]
  },
  {
   "cell_type": "markdown",
   "metadata": {},
   "source": [
    "According to the shape, we have 125 rows and 61 columns. But the dataset creator claimed that there is 126 participants. Maybe it was a typo?"
   ]
  },
  {
   "cell_type": "markdown",
   "metadata": {},
   "source": [
    "Anyway, lets check the gender distribution of the participants:"
   ]
  },
  {
   "cell_type": "code",
   "execution_count": 258,
   "metadata": {},
   "outputs": [],
   "source": [
    "def count_gender():\n",
    "    count_f = 0\n",
    "    count_m = 0\n",
    "    \n",
    "    for i in df[\"Gender\"]:\n",
    "        if i==1:\n",
    "            count_f+=1\n",
    "        else:\n",
    "            count_m+=1\n",
    "    return count_f, count_m"
   ]
  },
  {
   "cell_type": "code",
   "execution_count": 259,
   "metadata": {},
   "outputs": [],
   "source": [
    "gender_count = list(count_gender())"
   ]
  },
  {
   "cell_type": "code",
   "execution_count": 260,
   "metadata": {},
   "outputs": [
    {
     "data": {
      "image/png": "[encoded data removed]",
      "text/plain": [
       "<Figure size 432x432 with 1 Axes>"
      ]
     },
     "metadata": {},
     "output_type": "display_data"
    }
   ],
   "source": [
    "labels = ['Female', 'Male']\n",
    "sizes = gender_count\n",
    "colors = [\"#CD7672\", \"#534666\"]\n",
    "plt.figure(figsize=(6,6))\n",
    "plt.title('Gender distribution')\n",
    "plt.pie(sizes, labels=labels, colors = colors, autopct = '%1.1f%%', shadow = True, startangle=60)\n",
    "plt.show()"
   ]
  },
  {
   "cell_type": "markdown",
   "metadata": {},
   "source": [
    "### Comfort food"
   ]
  },
  {
   "cell_type": "markdown",
   "metadata": {},
   "source": [
    "<div>\n",
    "<img src=\"img/comfort.jpg\" width=600 height=200 />\n",
    "</div>"
   ]
  },
  {
   "cell_type": "code",
   "execution_count": 261,
   "metadata": {},
   "outputs": [],
   "source": [
    "def get_comfort_food_reason():\n",
    "    stress = 0\n",
    "    boredom = 0\n",
    "    sadness = 0\n",
    "    hunger = 0\n",
    "    laziness = 0\n",
    "    cold_weather = 0\n",
    "    happiness = 0\n",
    "    watching_tv = 0\n",
    "    \n",
    "    for i in df['comfort_food_reasons_coded']:\n",
    "        if i == 1:\n",
    "            stress +=1\n",
    "        elif i == 2:\n",
    "            boredom += 1\n",
    "        elif i == 3:\n",
    "            sadness += 1\n",
    "        elif i == 4:\n",
    "            hunger+=1\n",
    "        elif i == 5:\n",
    "            laziness+=1\n",
    "        elif i == 6:\n",
    "            cold_weather+=1\n",
    "        elif i == 7:\n",
    "            happiness+=1\n",
    "        elif i == 8:\n",
    "            watching_tv+= 1\n",
    "        else:\n",
    "            pass\n",
    "    \n",
    "    result = {\"stress\": stress, \"boredom\": boredom, \n",
    "              \"sadness\": sadness, \"hunger\": hunger,\n",
    "             \"laziness\": laziness, \"cold_weather\": cold_weather,\n",
    "             \"happiness\": happiness, \"watching_tv\": watching_tv}\n",
    "    \n",
    "    return result"
   ]
  },
  {
   "cell_type": "code",
   "execution_count": 262,
   "metadata": {},
   "outputs": [],
   "source": [
    "comfort_food_reason = get_comfort_food_reason()\n",
    "cfr = list([i for i in comfort_food_reason.values()])"
   ]
  },
  {
   "cell_type": "code",
   "execution_count": 263,
   "metadata": {
    "scrolled": false
   },
   "outputs": [
    {
     "data": {
      "image/png": "[encoded data removed]",
      "text/plain": [
       "<Figure size 648x648 with 1 Axes>"
      ]
     },
     "metadata": {},
     "output_type": "display_data"
    }
   ],
   "source": [
    "labels = ['stress', 'boredom', 'sadness', 'hunger', \n",
    "          'laziness', 'cold_weather', 'happiness', \n",
    "         'watching_tv']\n",
    "\n",
    "sizes = cfr\n",
    "colors = [\"#CD7672\", \"#534666\"]\n",
    "plt.figure(figsize=(9,9))\n",
    "plt.pie(sizes, labels=labels, autopct = '%1.1f%%', shadow = True, startangle=60)\n",
    "plt.title('Reason for eating comfort foods')\n",
    "plt.show()"
   ]
  },
  {
   "cell_type": "markdown",
   "metadata": {},
   "source": [
    "Wow, we have a lot of bored students here 😅"
   ]
  },
  {
   "cell_type": "markdown",
   "metadata": {},
   "source": [
    "Anyway, what is their eating habits?"
   ]
  },
  {
   "cell_type": "markdown",
   "metadata": {},
   "source": [
    "### Eating Habits"
   ]
  },
  {
   "cell_type": "markdown",
   "metadata": {},
   "source": [
    "<div>\n",
    "<img src=\"img/junk.jpg\" width=600 height=200 />\n",
    "</div>"
   ]
  },
  {
   "cell_type": "code",
   "execution_count": 264,
   "metadata": {},
   "outputs": [],
   "source": [
    "def get_diet_preference(category):\n",
    "    healthy_count = 0\n",
    "    unhealthy_count = 0\n",
    "    same_thing_count = 0\n",
    "    unclear_count = 0\n",
    "    \n",
    "    for i in df[category]:\n",
    "        if i == 1:\n",
    "            healthy_count +=1\n",
    "        elif i == 2:\n",
    "            unhealthy_count += 1\n",
    "        elif i == 3:\n",
    "            same_thing_count += 1\n",
    "        else:\n",
    "            unclear_count += 1\n",
    "    \n",
    "    result = {\"Healthy\": healthy_count, \"Unhealthy\": unhealthy_count, \"Same food\": same_thing_count, \"Unclear\": unclear_count}\n",
    "    \n",
    "    return result"
   ]
  },
  {
   "cell_type": "code",
   "execution_count": 265,
   "metadata": {},
   "outputs": [],
   "source": [
    "health_count = get_diet_preference('diet_current_coded')"
   ]
  },
  {
   "cell_type": "code",
   "execution_count": 266,
   "metadata": {
    "scrolled": true
   },
   "outputs": [],
   "source": [
    "def display_eating_habits(preference):\n",
    "    colors = []\n",
    "\n",
    "    for k in preference.keys():\n",
    "        if k == \"Healthy\":\n",
    "            colors.append(\"#329D9C\")\n",
    "        elif k == \"Unhealthy\":\n",
    "            colors.append(\"#FF9190\")\n",
    "        elif k == \"Same food\":\n",
    "            colors.append(\"#F9C449\")\n",
    "        else:\n",
    "            colors.append(\"gray\")\n",
    "    return colors\n"
   ]
  },
  {
   "cell_type": "code",
   "execution_count": 267,
   "metadata": {},
   "outputs": [],
   "source": [
    "seh_color = show_eating_habits(health_count)"
   ]
  },
  {
   "cell_type": "code",
   "execution_count": 268,
   "metadata": {},
   "outputs": [],
   "source": [
    "def show_frequency(li, title, ylabel=None, color=\"#329D9C\"):\n",
    "    key = list(li.keys())\n",
    "    val = list(li.values())\n",
    "\n",
    "    sns.set()\n",
    "    plt.ylabel(ylabel)\n",
    "    plt.title(title)\n",
    "    plt.bar(range(len(li)), val, tick_label=key, color=color)\n",
    "    plt.show()"
   ]
  },
  {
   "cell_type": "code",
   "execution_count": 269,
   "metadata": {},
   "outputs": [
    {
     "data": {
      "image/png": "[encoded data removed]",
      "text/plain": [
       "<Figure size 432x288 with 1 Axes>"
      ]
     },
     "metadata": {},
     "output_type": "display_data"
    }
   ],
   "source": [
    "show_frequency(health_count, 'What is your eating habit?', None, seh_color)"
   ]
  },
  {
   "cell_type": "code",
   "execution_count": 270,
   "metadata": {},
   "outputs": [],
   "source": [
    "from collections import Counter"
   ]
  },
  {
   "cell_type": "code",
   "execution_count": 271,
   "metadata": {},
   "outputs": [],
   "source": [
    "def plot_most_common(category, title, val=4):\n",
    "    sns.set()\n",
    "    bar_plot = dict(Counter(df[category].values).most_common(val))\n",
    "    plt.title(title)\n",
    "    plt.bar(*zip(*bar_plot.items()))\n",
    "    plt.xticks(rotation=90)\n",
    "    plt.show()"
   ]
  },
  {
   "cell_type": "code",
   "execution_count": 272,
   "metadata": {},
   "outputs": [
    {
     "data": {
      "image/png": "[encoded data removed]",
      "text/plain": [
       "<Figure size 432x288 with 1 Axes>"
      ]
     },
     "metadata": {},
     "output_type": "display_data"
    }
   ],
   "source": [
    "plot_most_common('comfort_food', 'Most common comfort food', 5)"
   ]
  },
  {
   "cell_type": "code",
   "execution_count": 273,
   "metadata": {},
   "outputs": [
    {
     "name": "stdout",
     "output_type": "stream",
     "text": [
      "none\n",
      "chocolate, chips, ice cream\n",
      "frozen yogurt, pizza, fast food\n",
      "Pizza, Mac and cheese, ice cream\n",
      "Ice cream, chocolate, chips \n",
      "Candy, brownies and soda.\n",
      "Chocolate, ice cream, french fries, pretzels\n",
      "Ice cream, cheeseburgers, chips.\n",
      "Donuts, ice cream, chips\n",
      "Mac and cheese, chocolate, and pasta \n",
      "Pasta, grandma homemade chocolate cake anything homemade \n",
      "chocolate, pasta, soup, chips, popcorn\n",
      "Cookies, popcorn, and chips\n",
      "ice cream, cake, chocolate\n",
      "Pizza, fruit, spaghetti, chicken and Potatoes  \n",
      "cookies, donuts, candy bars\n",
      "Saltfish, Candy and Kit Kat \n",
      "chips, cookies, ice cream\n",
      "Chocolate, ice crea \n",
      "pizza, wings, Chinese\n",
      "Fast food, pizza, subs\n",
      "chocolate, sweets, ice cream\n",
      "burgers, chips, cookies\n",
      "Chilli, soup, pot pie\n",
      "Soup, pasta, brownies, cake\n",
      "chocolate, ice cream/milkshake, cookies\n",
      "Chips, ice cream, microwaveable foods \n",
      "Chicken fingers, pizza \n",
      "cookies, hot chocolate, beef jerky\n",
      "Tomato soup, pizza, Fritos, Meatball sub, Dr. Pepper\n",
      "cookies, mac-n-cheese, brownies, french fries, \n",
      "chips and dip, pepsi, \n",
      "Grandma's Chinese, Peruvian food from back home, and sushi\n",
      "Ice cream, cookies,  Chinese food, and chicken nuggets \n",
      "french fries, chips, ice cream\n",
      "mac n cheese, peanut butter and banana sandwich, omelet\n",
      "pizza, doughnuts, mcdonalds \n",
      "chocolate, chips, candy\n",
      "chocolate, popcorn, ice cream\n",
      "Candy\r",
      "Pop\r",
      "Chocolate \r",
      "Chipotle \r",
      "Moe's \n",
      "Pizza, Ice cream, fries, cereal, cookies  \n",
      "Ice cream, chocolate, twizzlers \n",
      "ice cream, cookie dough, cookies, cheese\n",
      "ice cream, cereal, and salt and vinegar chips \n",
      "Potato chips, ice cream, chocolate, cookies\n",
      "Mac and cheese, fried chicken, cornbread \n",
      "popcorn, chips, candy, & fries \n",
      "Chex-mix, Wegmans cookies, Cheez-Its \n",
      "pizza, ice cream, chips\n",
      "fried chicken. mashed potatoes, mac and cheese\n",
      "Popcorn, Chex Mix, Pizza\n",
      "Burger\n",
      "Pizza, chocolate, and ice cream \n",
      "fries, chips, fried chicken, pizza, grapes\n",
      "peanut butter sandwich, pretzals, garlic bread\n",
      "chips, dip, fries, pizza\n",
      "Pizza, Ice Cream, Chicken Wings\n",
      "Pizza chocolate chips bagels ice Capps \n",
      "Chocolate, ice cream, pasta\n",
      "Mac n Cheese. Chips and salsa. Ice cream. \n",
      "peanut butter, dessets, pretzels. \n",
      "Macaroons, truffles, peanut butter n chocolate ice cream\n",
      "ice cream, cookies, ice cream\n",
      "carrots and ranch, pretzels, dark chocolate \n",
      "cookies, nutella, ice cream, coffee, fruit \n",
      "mac and cheese\n",
      "Chocolate, Popcorn, Icecream\n",
      "Ice cream, cake, mozzarella sticks, pierogies \n",
      "Chips, Mac and cheese, pizza, French fries \n",
      "Pizza, burritos, slim jims\n",
      "Broccoli, spaghetti squash, quinoa, and grilled chicken\n",
      "Chocolate, ice cream, cookie dough\n",
      "pizza, pretzels, fruit snacks, deli sandwhich\n",
      "Chips, ice cream\n",
      "nan\n",
      "mac and cheese, potato soup, ice cream, chips and cheese\n",
      "chocolate, pizza, and mashed potatoes\n",
      "Pizza cookies steak \n",
      "chocolate, fruit, and ice cream\n",
      "Chips sweets popcorn\n",
      "Cookies, burgers, chicken noodle soup, ice cream\n",
      "cake, French fries, chicken nuggets\n",
      "pizza, ice cream, cookies\n",
      "Mashed potatoes, pasta\n",
      "Pasta dishes, Cheesecake, Pancakes\n",
      "Ice cream, pizza, cookies\n",
      "Chinese food, moes, sponge candy, homemade lasagne \n",
      "pizza, pasta, mac and cheese\n",
      "Little Debbie snacks, donuts, pizza\n",
      "carrots, plantain chips, almonds, popcorn \n",
      "chips, ice cream, fruit snacks\n",
      "Macaroni and cheese, chicken noodle soup, pizza\n",
      "Chocolate, Chips, Ice cream, French Fires, Pizza\n",
      "Mac and cheese, lasagna, Chinese food \n",
      "candy, Chinese, mcdonalds\n",
      "Doritos, mac and cheese, ice cream\n",
      "Ice cream, cake, pop, pizza, and milkshakes.\n",
      "Mac and Cheese, Pizza, Ice Cream and French Fries \n",
      "Soup, pasta, cake\n",
      "mac & cheese, frosted brownies, chicken nuggs\n",
      "watermelon, grapes, ice cream\n",
      "macaroni and cheese, stuffed peppers, hamburgers, french fries\n",
      "Pizza, mashed potatoes, spaghetti\n",
      "dark chocolate, terra chips, reese's cups(dark chocolate), and bread/crackers with cottage cheese\n",
      "Chips, chocolate, ,mozzarella sticks \n",
      "ice cream, chips, candy\n",
      "Pizza, soda, chocolate brownie, chicken tikka masala and butter naan \n",
      "Chocolate, Pasta, Cookies\n",
      "Candy, salty snacks, toast\n",
      "Mac in cheese, pizza, mozzarella sticks \n",
      "Ice-cream, pizza, chocolate\n",
      "snacks, chips, \n",
      "Chocolate, Ice cream, pizza\n",
      "ice cream, pizza, Chinese food \n",
      "Burgers, indian and korean food\r\n",
      "chocolate bar, ice cream, pretzels, potato chips and protein bars.\n",
      "Ice cream, chocolate, pizza, cucumber \n",
      "Noodle ( any kinds of noodle), Tuna sandwich, and Egg.\r\n",
      "Chinese, chips, cake\n",
      "chips, rice, chicken curry,\n",
      "wine. mac and cheese, pizza, ice cream \n",
      "Pizza / Wings / Cheesecake\n",
      "rice, potato, seaweed soup\n",
      "Mac n Cheese, Lasagna, Pizza\n",
      "Chocolates, pizza, and Ritz.\n"
     ]
    }
   ],
   "source": [
    "comfort_food = [print(i) for i in df['comfort_food']]"
   ]
  },
  {
   "cell_type": "markdown",
   "metadata": {},
   "source": [
    "Those are quite a lot of unhealthy foods. Lets check if these students cook sometimes."
   ]
  },
  {
   "cell_type": "markdown",
   "metadata": {},
   "source": [
    "### Cooking"
   ]
  },
  {
   "cell_type": "markdown",
   "metadata": {},
   "source": [
    "<div>\n",
    "<img src=\"img/cooking.jpg\" width=600 height=200 />\n",
    "</div>"
   ]
  },
  {
   "cell_type": "code",
   "execution_count": 274,
   "metadata": {},
   "outputs": [],
   "source": [
    "def cooking_frequency():\n",
    "    daily = 0\n",
    "    twice_a_week = 0\n",
    "    not_often = 0\n",
    "    on_holidays = 0\n",
    "    never = 0\n",
    "    \n",
    "    for i in df['cook']:\n",
    "        if i == 1:\n",
    "            daily+=1\n",
    "        elif i == 2:\n",
    "            twice_a_week+=1\n",
    "        elif i == 3:\n",
    "            not_often+=1\n",
    "        elif i == 4:\n",
    "            on_holidays+=1\n",
    "        elif i == 5:\n",
    "            never+=1\n",
    "        else:\n",
    "            pass\n",
    "    \n",
    "    result = {\"daily\": daily, \"twice a week\": twice_a_week, \n",
    "              \"not often\": not_often, \"on holidays\": on_holidays,\n",
    "             \"never\" : never}\n",
    "    \n",
    "    return result"
   ]
  },
  {
   "cell_type": "code",
   "execution_count": 275,
   "metadata": {},
   "outputs": [],
   "source": [
    "cooks_list = cooking_frequency()"
   ]
  },
  {
   "cell_type": "code",
   "execution_count": 276,
   "metadata": {
    "scrolled": true
   },
   "outputs": [
    {
     "data": {
      "image/png": "[encoded data removed]",
      "text/plain": [
       "<Figure size 432x288 with 1 Axes>"
      ]
     },
     "metadata": {},
     "output_type": "display_data"
    }
   ],
   "source": [
    "show_frequency(cooks_list, \"How often do you cook?\", \"Frequency\")"
   ]
  },
  {
   "cell_type": "markdown",
   "metadata": {},
   "source": [
    "## Lifestyle"
   ]
  },
  {
   "cell_type": "markdown",
   "metadata": {},
   "source": [
    "<div>\n",
    "<img src=\"img/gym_medium.jpg\" width=600 height=200 />\n",
    "</div>"
   ]
  },
  {
   "cell_type": "markdown",
   "metadata": {},
   "source": [
    "Enough about food. Lets check if the students are active in sports as much as they active in eating."
   ]
  },
  {
   "cell_type": "code",
   "execution_count": 277,
   "metadata": {},
   "outputs": [],
   "source": [
    "most_common_sports = dict(Counter(df['type_sports'].values).most_common(20))"
   ]
  },
  {
   "cell_type": "code",
   "execution_count": 278,
   "metadata": {},
   "outputs": [
    {
     "data": {
      "text/plain": [
       "{nan: 21,\n",
       " 'none': 8,\n",
       " 'Hockey': 7,\n",
       " 'None': 5,\n",
       " 'Soccer': 4,\n",
       " 'softball': 4,\n",
       " 'Softball': 3,\n",
       " 'soccer': 3,\n",
       " 'Volleyball': 3,\n",
       " 'Basketball ': 2,\n",
       " 'field hockey': 2,\n",
       " 'hockey': 2,\n",
       " 'Tennis': 2,\n",
       " 'Ice hockey': 2,\n",
       " 'Lacrosse ': 2,\n",
       " 'Lacrosse': 2,\n",
       " 'Wrestling': 2,\n",
       " 'car racing': 1,\n",
       " 'None.': 1,\n",
       " 'Running': 1}"
      ]
     },
     "execution_count": 278,
     "metadata": {},
     "output_type": "execute_result"
    }
   ],
   "source": [
    "most_common_sports"
   ]
  },
  {
   "cell_type": "code",
   "execution_count": null,
   "metadata": {},
   "outputs": [],
   "source": []
  }
 ],
 "metadata": {
  "kernelspec": {
   "display_name": "Python 3.6.8 64-bit ('cv': conda)",
   "language": "python",
   "name": "python36864bitcvcondad8b8eb2620814c9c8f0f1c713e6db32f"
  },
  "language_info": {
   "codemirror_mode": {
    "name": "ipython",
    "version": 3
   },
   "file_extension": ".py",
   "mimetype": "text/x-python",
   "name": "python",
   "nbconvert_exporter": "python",
   "pygments_lexer": "ipython3",
   "version": "3.6.8"
  }
 },
 "nbformat": 4,
 "nbformat_minor": 4
}
